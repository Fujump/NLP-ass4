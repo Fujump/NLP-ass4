{
 "cells": [
  {
   "cell_type": "code",
   "execution_count": 23,
   "metadata": {},
   "outputs": [],
   "source": [
    "from langserve import RemoteRunnable\n",
    "\n",
    "remote_chain = RemoteRunnable(\"http://localhost:8000/chat_llm_chain/\")\n"
   ]
  },
  {
   "cell_type": "code",
   "execution_count": 31,
   "metadata": {},
   "outputs": [
    {
     "data": {
      "text/plain": [
       "{'text': '🤔 Well, that\"s a curious question! 🐰 As the legend goes, King Cap was once a humble cap-maker who rose to power after a series of unfortunate events involving a mischievous cape and a pesky hat stand. 😳 Anyway, he became king and decided that everyone should express themselves through their headwear! 🎉 It\"s all about celebrating our unique styles and not being afraid to show them off, if you know what I mean! 😉 What do you think of King Cap\"s decree? Do you have any caps that make you feel extra special? 😊['}"
      ]
     },
     "execution_count": 31,
     "metadata": {},
     "output_type": "execute_result"
    }
   ],
   "source": [
    "remote_chain.invoke({\"human_input\": \"why did the king say that?\"})"
   ]
  }
 ],
 "metadata": {
  "kernelspec": {
   "display_name": "Python 3.11.3 ('huq': conda)",
   "language": "python",
   "name": "python3"
  },
  "language_info": {
   "codemirror_mode": {
    "name": "ipython",
    "version": 3
   },
   "file_extension": ".py",
   "mimetype": "text/x-python",
   "name": "python",
   "nbconvert_exporter": "python",
   "pygments_lexer": "ipython3",
   "version": "3.11.3"
  },
  "orig_nbformat": 4,
  "vscode": {
   "interpreter": {
    "hash": "26d6c7b4ea4c17c1a704ac8c3dabc344c5e691f1557a5e845366920aa078ec69"
   }
  }
 },
 "nbformat": 4,
 "nbformat_minor": 2
}
